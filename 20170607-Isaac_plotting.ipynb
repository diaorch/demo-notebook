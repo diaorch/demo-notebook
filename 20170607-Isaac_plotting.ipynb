{
 "cells": [
  {
   "cell_type": "markdown",
   "metadata": {},
   "source": [
    "# 20170607: barcode correlation"
   ]
  },
  {
   "cell_type": "code",
   "execution_count": 3,
   "metadata": {
    "collapsed": true
   },
   "outputs": [],
   "source": [
    "import pandas as pd"
   ]
  },
  {
   "cell_type": "code",
   "execution_count": 37,
   "metadata": {
    "collapsed": false
   },
   "outputs": [
    {
     "data": {
      "text/html": [
       "<div>\n",
       "<table border=\"1\" class=\"dataframe\">\n",
       "  <thead>\n",
       "    <tr style=\"text-align: right;\">\n",
       "      <th></th>\n",
       "      <th>barcode</th>\n",
       "      <th>abundance</th>\n",
       "    </tr>\n",
       "  </thead>\n",
       "  <tbody>\n",
       "    <tr>\n",
       "      <th>0</th>\n",
       "      <td>GGCCCATGATATGCGAGGTGTGG</td>\n",
       "      <td>0.006259</td>\n",
       "    </tr>\n",
       "    <tr>\n",
       "      <th>1</th>\n",
       "      <td>AGCGGGCATCTTAATCTCGGTGG</td>\n",
       "      <td>0.006126</td>\n",
       "    </tr>\n",
       "    <tr>\n",
       "      <th>2</th>\n",
       "      <td>ACATGTTGTGATGCTATTAATG</td>\n",
       "      <td>0.006069</td>\n",
       "    </tr>\n",
       "    <tr>\n",
       "      <th>3</th>\n",
       "      <td>CCACTGACGATGATTTTTTATGG</td>\n",
       "      <td>0.006012</td>\n",
       "    </tr>\n",
       "    <tr>\n",
       "      <th>4</th>\n",
       "      <td>TAGGGTTCGCTCTTAGGGAATGG</td>\n",
       "      <td>0.006012</td>\n",
       "    </tr>\n",
       "  </tbody>\n",
       "</table>\n",
       "</div>"
      ],
      "text/plain": [
       "                   barcode  abundance\n",
       "0  GGCCCATGATATGCGAGGTGTGG   0.006259\n",
       "1  AGCGGGCATCTTAATCTCGGTGG   0.006126\n",
       "2   ACATGTTGTGATGCTATTAATG   0.006069\n",
       "3  CCACTGACGATGATTTTTTATGG   0.006012\n",
       "4  TAGGGTTCGCTCTTAGGGAATGG   0.006012"
      ]
     },
     "execution_count": 37,
     "metadata": {},
     "output_type": "execute_result"
    }
   ],
   "source": [
    "tbl_1 = pd.read_csv(\"data/20170607-1.txt\", sep = \"\\t\", header = None)\n",
    "tbl_1 = tbl_1.iloc[:, :2]\n",
    "tbl_1.columns = [\"barcode\", \"abundance\"]\n",
    "total_1 = sum(tbl_1['abundance'])\n",
    "tbl_1['abundance'] = tbl_1['abundance'] / total_1\n",
    "tbl_1.head()"
   ]
  },
  {
   "cell_type": "code",
   "execution_count": 46,
   "metadata": {
    "collapsed": false
   },
   "outputs": [
    {
     "data": {
      "text/html": [
       "<div>\n",
       "<table border=\"1\" class=\"dataframe\">\n",
       "  <thead>\n",
       "    <tr style=\"text-align: right;\">\n",
       "      <th></th>\n",
       "      <th>barcode</th>\n",
       "      <th>abundance</th>\n",
       "      <th>file</th>\n",
       "    </tr>\n",
       "  </thead>\n",
       "  <tbody>\n",
       "    <tr>\n",
       "      <th>0</th>\n",
       "      <td>GGCCCATGATATGCGAGGTGTGG</td>\n",
       "      <td>0.006259</td>\n",
       "      <td>file1</td>\n",
       "    </tr>\n",
       "    <tr>\n",
       "      <th>1</th>\n",
       "      <td>AGCGGGCATCTTAATCTCGGTGG</td>\n",
       "      <td>0.006126</td>\n",
       "      <td>file1</td>\n",
       "    </tr>\n",
       "    <tr>\n",
       "      <th>2</th>\n",
       "      <td>ACATGTTGTGATGCTATTAATG</td>\n",
       "      <td>0.006069</td>\n",
       "      <td>file1</td>\n",
       "    </tr>\n",
       "    <tr>\n",
       "      <th>3</th>\n",
       "      <td>CCACTGACGATGATTTTTTATGG</td>\n",
       "      <td>0.006012</td>\n",
       "      <td>file1</td>\n",
       "    </tr>\n",
       "    <tr>\n",
       "      <th>4</th>\n",
       "      <td>TAGGGTTCGCTCTTAGGGAATGG</td>\n",
       "      <td>0.006012</td>\n",
       "      <td>file1</td>\n",
       "    </tr>\n",
       "  </tbody>\n",
       "</table>\n",
       "</div>"
      ],
      "text/plain": [
       "                   barcode  abundance   file\n",
       "0  GGCCCATGATATGCGAGGTGTGG   0.006259  file1\n",
       "1  AGCGGGCATCTTAATCTCGGTGG   0.006126  file1\n",
       "2   ACATGTTGTGATGCTATTAATG   0.006069  file1\n",
       "3  CCACTGACGATGATTTTTTATGG   0.006012  file1\n",
       "4  TAGGGTTCGCTCTTAGGGAATGG   0.006012  file1"
      ]
     },
     "execution_count": 46,
     "metadata": {},
     "output_type": "execute_result"
    }
   ],
   "source": [
    "tbl_1['file'] = 'file1'\n",
    "tbl_1.head()"
   ]
  },
  {
   "cell_type": "code",
   "execution_count": 47,
   "metadata": {
    "collapsed": false
   },
   "outputs": [
    {
     "data": {
      "text/html": [
       "<div>\n",
       "<table border=\"1\" class=\"dataframe\">\n",
       "  <thead>\n",
       "    <tr style=\"text-align: right;\">\n",
       "      <th></th>\n",
       "      <th>barcode</th>\n",
       "      <th>abundance</th>\n",
       "      <th>file</th>\n",
       "    </tr>\n",
       "  </thead>\n",
       "  <tbody>\n",
       "    <tr>\n",
       "      <th>0</th>\n",
       "      <td>GCAGTTTACAATGTTGTCACTGG</td>\n",
       "      <td>0.011345</td>\n",
       "      <td>file2</td>\n",
       "    </tr>\n",
       "    <tr>\n",
       "      <th>1</th>\n",
       "      <td>ATTTTTTTTGGTGGGGTGGGTGG</td>\n",
       "      <td>0.007360</td>\n",
       "      <td>file2</td>\n",
       "    </tr>\n",
       "    <tr>\n",
       "      <th>2</th>\n",
       "      <td>GTTGGTTGTAGTAAGTTGTGTGG</td>\n",
       "      <td>0.006807</td>\n",
       "      <td>file2</td>\n",
       "    </tr>\n",
       "    <tr>\n",
       "      <th>3</th>\n",
       "      <td>GTGGAGTGCGATTGAACTTGTGG</td>\n",
       "      <td>0.006182</td>\n",
       "      <td>file2</td>\n",
       "    </tr>\n",
       "    <tr>\n",
       "      <th>4</th>\n",
       "      <td>AAAAGTGTTATGGGGTGGTTTGG</td>\n",
       "      <td>0.006022</td>\n",
       "      <td>file2</td>\n",
       "    </tr>\n",
       "  </tbody>\n",
       "</table>\n",
       "</div>"
      ],
      "text/plain": [
       "                   barcode  abundance   file\n",
       "0  GCAGTTTACAATGTTGTCACTGG   0.011345  file2\n",
       "1  ATTTTTTTTGGTGGGGTGGGTGG   0.007360  file2\n",
       "2  GTTGGTTGTAGTAAGTTGTGTGG   0.006807  file2\n",
       "3  GTGGAGTGCGATTGAACTTGTGG   0.006182  file2\n",
       "4  AAAAGTGTTATGGGGTGGTTTGG   0.006022  file2"
      ]
     },
     "execution_count": 47,
     "metadata": {},
     "output_type": "execute_result"
    }
   ],
   "source": [
    "tbl_2 = pd.read_csv(\"data/20170607-2.txt\", sep = \"\\t\", header = None)\n",
    "tbl_2 = tbl_2.iloc[:, :2]\n",
    "tbl_2.columns = [\"barcode\", \"abundance\"]\n",
    "total_2 = sum(tbl_2['abundance'])\n",
    "tbl_2['abundance'] = tbl_2['abundance'] / total_2\n",
    "tbl_2['file'] = 'file2'\n",
    "\n",
    "tbl_2.head()"
   ]
  },
  {
   "cell_type": "code",
   "execution_count": 48,
   "metadata": {
    "collapsed": true
   },
   "outputs": [],
   "source": [
    "tbl = tbl_1.append(tbl_2)"
   ]
  },
  {
   "cell_type": "code",
   "execution_count": 54,
   "metadata": {
    "collapsed": false
   },
   "outputs": [],
   "source": [
    "import seaborn as sns\n",
    "import matplotlib as pylab\n",
    "\n",
    "%matplotlib inline\n",
    "pylab.rcParams['figure.figsize'] = (10.0, 8.0)"
   ]
  },
  {
   "cell_type": "code",
   "execution_count": 56,
   "metadata": {
    "collapsed": false
   },
   "outputs": [
    {
     "data": {
      "text/plain": [
       "<matplotlib.axes._subplots.AxesSubplot at 0x7f309366bed0>"
      ]
     },
     "execution_count": 56,
     "metadata": {},
     "output_type": "execute_result"
    },
    {
     "data": {
      "image/png": "[encoded data removed]",
      "text/plain": [
       "<matplotlib.figure.Figure at 0x7f308ca2ef90>"
      ]
     },
     "metadata": {},
     "output_type": "display_data"
    }
   ],
   "source": [
    "sns.pointplot(x = \"barcode\", y=\"abundance\", hue = 'file', linestyles = ['', ''], data=tbl)"
   ]
  },
  {
   "cell_type": "code",
   "execution_count": null,
   "metadata": {
    "collapsed": true
   },
   "outputs": [],
   "source": []
  },
  {
   "cell_type": "code",
   "execution_count": null,
   "metadata": {
    "collapsed": true
   },
   "outputs": [],
   "source": []
  }
 ],
 "metadata": {
  "kernelspec": {
   "display_name": "Python [Root]",
   "language": "python",
   "name": "Python [Root]"
  },
  "language_info": {
   "codemirror_mode": {
    "name": "ipython",
    "version": 2
   },
   "file_extension": ".py",
   "mimetype": "text/x-python",
   "name": "python",
   "nbconvert_exporter": "python",
   "pygments_lexer": "ipython2",
   "version": "2.7.12"
  }
 },
 "nbformat": 4,
 "nbformat_minor": 0
}
